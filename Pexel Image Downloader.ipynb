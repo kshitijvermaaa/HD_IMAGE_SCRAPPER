{
 "cells": [
  {
   "cell_type": "code",
   "execution_count": 1,
   "id": "e4593d2c",
   "metadata": {},
   "outputs": [],
   "source": [
    "import undetected_chromedriver.v2 as uc\n",
    "import time\n",
    "from selenium.webdriver.common.action_chains import ActionChains\n",
    "from selenium.webdriver.common.keys import Keys\n",
    "import requests, random\n",
    "from bs4 import BeautifulSoup\n",
    "import csv \n",
    "import os"
   ]
  },
  {
   "cell_type": "code",
   "execution_count": 2,
   "id": "bb95871e",
   "metadata": {},
   "outputs": [
    {
     "name": "stdout",
     "output_type": "stream",
     "text": [
      "Enter what you want to search.....:Beach\n",
      "Number of Turns: 50\n",
      "Waiting for links to load.........\n"
     ]
    },
    {
     "name": "stderr",
     "output_type": "stream",
     "text": [
      "C:\\Users\\Kshitij\\AppData\\Local\\Temp/ipykernel_9492/3337637235.py:42: DeprecationWarning: find_element_by_css_selector is deprecated. Please use find_element(by=By.CSS_SELECTOR, value=css_selector) instead\n",
      "  body = driver.find_element_by_css_selector('body')\n",
      "C:\\Users\\Kshitij\\AppData\\Local\\Temp/ipykernel_9492/3337637235.py:44: DeprecationWarning: find_elements_by_tag_name is deprecated. Please use find_elements(by=By.TAG_NAME, value=name) instead\n",
      "  lnks=driver.find_elements_by_tag_name(\"a\")\n"
     ]
    },
    {
     "name": "stdout",
     "output_type": "stream",
     "text": [
      "3583 Links Retrieved\n",
      "Beach Folder Created\n",
      "408 will be downloaded....\n",
      "Downloaded 408 Images....\n"
     ]
    }
   ],
   "source": [
    "def loginlink(searchterm):\n",
    "    wordlist = []\n",
    "    multiplesearchterms = ''\n",
    "    numwords = searchterm.split()\n",
    "    if len(numwords) == 1:\n",
    "        link = \"https://www.pexels.com/search/{}\".format(searchterm)\n",
    "        return link\n",
    "    else:\n",
    "        for words in numwords:\n",
    "            template = \"%20\"\n",
    "            newsearchword = words+template\n",
    "            wordlist.append(newsearchword)\n",
    "        for terms in wordlist:\n",
    "            multiplesearchterms+=terms\n",
    "        link = \"https://www.pexels.com/search/{}\".format(multiplesearchterms)\n",
    "        return link\n",
    "listlinks = []\n",
    "linkList = []\n",
    "searchterm = input(\"Enter what you want to search.....:\")\n",
    "turns = int(input(\"Number of Turns: \"))\n",
    "chrome = 'chromedriver.exe'\n",
    "chrome_options = uc.ChromeOptions()\n",
    "chrome_options.add_argument(\"--disable-extensions\")\n",
    "chrome_options.add_argument(\"--disable-popup-blocking\")\n",
    "chrome_options.add_argument(\"--profile-directory=Default\")\n",
    "chrome_options.add_argument(\"--ignore-certificate-errors\")\n",
    "chrome_options.add_argument(\"--disable-plugins-discovery\")\n",
    "chrome_options.add_argument(\"--incognito\")\n",
    "chrome_options.add_argument(\"user_agent=DN\")\n",
    "chrome_options.headless = True\n",
    "driver = uc.Chrome(options=chrome_options)\n",
    "driver.delete_all_cookies()\n",
    "time.sleep(2)\n",
    "actions = ActionChains(driver)\n",
    "loginlink = loginlink(searchterm)\n",
    "time.sleep(2)\n",
    "driver.get(loginlink)\n",
    "print(\"Waiting for links to load.........\")\n",
    "time.sleep(5)\n",
    "for n in range(0,turns):\n",
    "    time.sleep(0.32)\n",
    "    body = driver.find_element_by_css_selector('body')\n",
    "    body.send_keys(Keys.PAGE_DOWN)\n",
    "lnks=driver.find_elements_by_tag_name(\"a\")\n",
    "for lnk in lnks:\n",
    "    k = (lnk.get_attribute(\"href\"))\n",
    "    listlinks.append(k)\n",
    "print(\"{} Links Retrieved\".format(len(listlinks)))\n",
    "count = 0\n",
    "newpath = 'C:/Users/Kshitij/Notebooks/Pexel Image Downloader/Images/{}'.format(searchterm) \n",
    "if not os.path.exists(newpath):\n",
    "    os.makedirs(newpath)\n",
    "else:\n",
    "    print(\"Folder Available\")\n",
    "    exit()\n",
    "print(\"{} Folder Created\".format(searchterm))\n",
    "sett = set(listlinks)\n",
    "for p in sett:\n",
    "    if \"jpeg\" in p or \"jpg\" in p:\n",
    "        linkList.append(p)\n",
    "    else:\n",
    "        continue\n",
    "print(\"{} will be downloaded....\".format(len(linkList)))       \n",
    "for links in linkList:\n",
    "        try:\n",
    "            randomno = random.randint(1,10000)\n",
    "            f= open(\"C:/Users/Kshitij/Notebooks/Pexel Image Downloader/Images/\"+str(searchterm)+'/'+str(randomno)+'.jpg','wb')\n",
    "            f.write(requests.get(links).content)\n",
    "            f.close()\n",
    "            count +=1\n",
    "        except:\n",
    "            print(\"No Image found\")\n",
    "print(\"Downloaded {} Images....\".format(count))\n",
    "driver.close()"
   ]
  }
 ],
 "metadata": {
  "kernelspec": {
   "display_name": "Python 3 (ipykernel)",
   "language": "python",
   "name": "python3"
  },
  "language_info": {
   "codemirror_mode": {
    "name": "ipython",
    "version": 3
   },
   "file_extension": ".py",
   "mimetype": "text/x-python",
   "name": "python",
   "nbconvert_exporter": "python",
   "pygments_lexer": "ipython3",
   "version": "3.9.7"
  }
 },
 "nbformat": 4,
 "nbformat_minor": 5
}
